{
 "cells": [
  {
   "cell_type": "code",
   "execution_count": null,
   "id": "763d9e3e",
   "metadata": {},
   "outputs": [],
   "source": [
    "import requests\n",
    "from bs4 import BeautifulSoup\n",
    "import pandas as pd\n",
    "import os"
   ]
  },
  {
   "cell_type": "code",
   "execution_count": null,
   "id": "ee75bc6b",
   "metadata": {},
   "outputs": [],
   "source": [
    "path = r\"Input.xlsx\"\n",
    "urls_df = pd.read_excel(\"Input.xlsx\")\n",
    "output_dir = 'output'"
   ]
  },
  {
   "cell_type": "code",
   "execution_count": null,
   "id": "1f26dac5",
   "metadata": {},
   "outputs": [],
   "source": [
    "os.makedirs(output_dir, exist_ok=True)"
   ]
  },
  {
   "cell_type": "code",
   "execution_count": null,
   "id": "955a0447",
   "metadata": {},
   "outputs": [],
   "source": [
    "df = pd.read_excel(path)\n",
    "for index, row in df.iterrows():        # iTerating row by row and accessing specific columns in a data frame.\n",
    "    url_id = row['URL_ID']\n",
    "    url = row['URL']\n",
    "            \n",
    "    try:\n",
    "        response = requests.get(url)    # Utilizes requests library to retrieve web page content from url\n",
    "        response.raise_for_status()\n",
    "        \n",
    "        if response.status_code == 200:\n",
    "            print(f\"No issue detected from {url}\")\n",
    "        else: \n",
    "            print(f\"Problem in {url}: Status code {response.status_code}\")\n",
    "            \n",
    "        page_content = response.text\n",
    "            \n",
    "        soup = BeautifulSoup(page_content, 'html.parser')\n",
    "        title = soup.find('h1', class_ = 'entry-title').text\n",
    "        content = soup.find('div', class_ = 'td-post-content tagdiv-type').text\n",
    "            \n",
    "            \n",
    "        with open(os.path.join(output_dir, f'{url_id}.txt'), mode='w', encoding='utf-8') as output_file:\n",
    "            output_file.write(f'Title: {title}\\n\\n')\n",
    "            output_file.write(content)\n",
    "        \n",
    "    except requests.exceptions.RequestException as e:\n",
    "        print(f\"Failed to retrieve {url}: {e}\")"
   ]
  },
  {
   "cell_type": "code",
   "execution_count": null,
   "id": "23329855",
   "metadata": {},
   "outputs": [],
   "source": [
    "print(\"Extraction completed.\")"
   ]
  }
 ],
 "metadata": {
  "kernelspec": {
   "display_name": "Python 3 (ipykernel)",
   "language": "python",
   "name": "python3"
  },
  "language_info": {
   "codemirror_mode": {
    "name": "ipython",
    "version": 3
   },
   "file_extension": ".py",
   "mimetype": "text/x-python",
   "name": "python",
   "nbconvert_exporter": "python",
   "pygments_lexer": "ipython3",
   "version": "3.12.3"
  }
 },
 "nbformat": 4,
 "nbformat_minor": 5
}
