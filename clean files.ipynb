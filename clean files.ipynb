{
 "cells": [
  {
   "cell_type": "code",
   "execution_count": null,
   "metadata": {},
   "outputs": [],
   "source": [
    "import os \n",
    "import re\n",
    "import pandas as pd "
   ]
  },
  {
   "cell_type": "code",
   "execution_count": null,
   "metadata": {},
   "outputs": [],
   "source": [
    "stop_words_dir = 'StopWords'\n",
    "extracted_text_dir = 'output'\n",
    "cleaned_text_dir = 'cleaned_output'\n",
    "os.makedirs(cleaned_text_dir, exist_ok=True)"
   ]
  },
  {
   "cell_type": "code",
   "execution_count": null,
   "metadata": {},
   "outputs": [],
   "source": [
    "def load_stop_words(stop_words_dir):    # Load stop words from text files in a given directory.\n",
    "    stop_words = set()  # Creates an empty set to store stop words.\n",
    "    \n",
    "    for file_name in os.listdir(stop_words_dir):            # Read each file, extract stop words and add them to stop_words set.\n",
    "        file_path = os.path.join(stop_words_dir, file_name)\n",
    "        if os.path.isfile(file_path):\n",
    "            with open(file_path, 'r', encoding='utf-8', errors='ignore') as file:\n",
    "                for line in file:\n",
    "                    stop_words.add(line.strip().lower())\n",
    "                    \n",
    "    print(f\"Total stop words loaded: {len(stop_words)}\")\n",
    "    return stop_words"
   ]
  },
  {
   "cell_type": "code",
   "execution_count": null,
   "metadata": {},
   "outputs": [],
   "source": [
    "def clean_text(text, stop_words):       # Text cleaning\n",
    "    text = re.sub(r'[^\\w\\s]', '', text)\n",
    "    words = text.lower().split()\n",
    "    cleaned_words = [word for word in words if word not in stop_words]\n",
    "    return ' '.join(cleaned_words)"
   ]
  },
  {
   "cell_type": "code",
   "execution_count": null,
   "metadata": {},
   "outputs": [],
   "source": [
    "def clean_extracted_text(extracted_text_dir, cleaned_text_dir, stop_words):\n",
    "    for file_name in os.listdir(extracted_text_dir):\n",
    "        file_path = os.path.join(extracted_text_dir, file_name)\n",
    "        if os.path.isfile(file_path):\n",
    "            with open(file_path, 'r', encoding='utf-8') as file:\n",
    "                text = file.read()\n",
    "                cleaned_text = clean_text(text, stop_words)\n",
    "                cleaned_file_path = os.path.join(cleaned_text_dir, file_name)\n",
    "                with open(cleaned_file_path, 'w', encoding='utf-8', errors='ignore') as cleaned_file:\n",
    "                    cleaned_file.write(cleaned_text)\n",
    "                    \n",
    "    print(\"Stop words removal completed.\")"
   ]
  },
  {
   "cell_type": "code",
   "execution_count": null,
   "metadata": {},
   "outputs": [],
   "source": [
    "def main():\n",
    "    stop_words = load_stop_words(stop_words_dir)\n",
    "    clean_extracted_text(extracted_text_dir, cleaned_text_dir, stop_words)\n"
   ]
  },
  {
   "cell_type": "code",
   "execution_count": null,
   "metadata": {},
   "outputs": [],
   "source": [
    "main()"
   ]
  }
 ],
 "metadata": {
  "kernelspec": {
   "display_name": "Python 3",
   "language": "python",
   "name": "python3"
  },
  "language_info": {
   "codemirror_mode": {
    "name": "ipython",
    "version": 3
   },
   "file_extension": ".py",
   "mimetype": "text/x-python",
   "name": "python",
   "nbconvert_exporter": "python",
   "pygments_lexer": "ipython3",
   "version": "3.12.3"
  }
 },
 "nbformat": 4,
 "nbformat_minor": 2
}
